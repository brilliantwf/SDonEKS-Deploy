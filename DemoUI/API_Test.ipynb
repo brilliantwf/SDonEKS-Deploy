{
 "cells": [
  {
   "cell_type": "code",
   "execution_count": null,
   "id": "e638058f-8c00-4a07-878f-553e7fa7d842",
   "metadata": {},
   "outputs": [],
   "source": [
    "#发送请求"
   ]
  },
  {
   "cell_type": "code",
   "execution_count": 4,
   "id": "34ae0274-88d7-4668-bb37-7386dfc8264d",
   "metadata": {
    "tags": []
   },
   "outputs": [],
   "source": [
    "APIURL = \"https://c1544mq3nj.execute-api.us-east-1.amazonaws.com/prod\""
   ]
  },
  {
   "cell_type": "code",
   "execution_count": 6,
   "id": "83a1a2c7-76e6-4825-aa39-d214a040bf8c",
   "metadata": {
    "tags": []
   },
   "outputs": [
    {
     "name": "stdout",
     "output_type": "stream",
     "text": [
      "{\"id_task\": \"99808\", \"task\": \"text-to-image\", \"sd_model_checkpoint\": \"v1-5-pruned-emaonly.safetensors\", \"output_location\": \"s3://sdoneksdataplanestack-outputs3bucket9fe85b9f-pzlnjnu6xsl7/99808\"}"
     ]
    }
   ],
   "source": [
    "!curl -X POST -H 'Content-Type: application/json' $APIURL --data '@./payload1.json' "
   ]
  },
  {
   "cell_type": "code",
   "execution_count": null,
   "id": "e8c95e9d-c6f2-4bdf-a33d-7c59574e0c7c",
   "metadata": {},
   "outputs": [],
   "source": [
    "#查看结果"
   ]
  },
  {
   "cell_type": "code",
   "execution_count": null,
   "id": "f5fa5bed-fd89-418b-8211-e77c63a66db8",
   "metadata": {},
   "outputs": [],
   "source": [
    "s3uri = \"s3://sagemaker-ap-northeast-1-544592066775/stable-diffusion-webui/generated/\""
   ]
  },
  {
   "cell_type": "code",
   "execution_count": null,
   "id": "22023cb4-fa7a-4e51-a3c9-a0523a86340e",
   "metadata": {},
   "outputs": [],
   "source": [
    "#查看最近生成的随机的图片"
   ]
  },
  {
   "cell_type": "code",
   "execution_count": null,
   "id": "bbf70b08-c5e9-4bb4-bccd-46f6f567f95a",
   "metadata": {},
   "outputs": [],
   "source": [
    "import boto3\n",
    "import random\n",
    "from PIL import Image\n",
    "import requests\n",
    "import io\n",
    "from io import BytesIO\n",
    "\n",
    "def get_latest_images(s3_uri, num_images):\n",
    "    bucket_name, prefix = parse_s3_uri(s3_uri)\n",
    "\n",
    "    s3 = boto3.client('s3')\n",
    "    response = s3.list_objects_v2(Bucket=bucket_name, Prefix=prefix)\n",
    "\n",
    "    if 'Contents' in response:\n",
    "        objects = response['Contents']\n",
    "        objects.sort(key=lambda obj: obj['LastModified'], reverse=True)\n",
    "        latest_objects = objects[:num_images]\n",
    "        image_uris = [f\"s3://{bucket_name}/{obj['Key']}\" for obj in latest_objects]\n",
    "        return image_uris\n",
    "\n",
    "    return []\n",
    "\n",
    "def _get_output_bucket_key(output_location):\n",
    "    output_url = urllib.parse.urlparse(output_location)\n",
    "    bucket = output_url.netloc\n",
    "    key = output_url.path[1:]\n",
    "    return bucket, key\n",
    "\n",
    "def parse_s3_uri(s3_uri):\n",
    "    parts = s3_uri.replace('s3://', '').split('/')\n",
    "    bucket_name = parts[0]\n",
    "    prefix = '/'.join(parts[1:])\n",
    "    return bucket_name, prefix\n",
    "\n",
    "# Example usage\n",
    "s3_uri = s3uri\n",
    "num_images = 5\n",
    "\n",
    "latest_image_uris = get_latest_images(s3_uri, num_images)\n",
    "if latest_image_uris:\n",
    "    random_image_uri = random.choice(latest_image_uris)\n",
    "    print(\"Randomly selected image URI:\", random_image_uri)\n",
    "    \n",
    "\n",
    "    bucket, key = _get_output_bucket_key(random_image_uri)\n",
    "    obj = s3_resource.Object(bucket, key)\n",
    "    bytes = obj.get()['Body'].read()\n",
    "    image = Image.open(io.BytesIO(bytes))\n",
    "    image.show()\n",
    "else:\n",
    "    print(\"No images found.\")\n"
   ]
  }
 ],
 "metadata": {
  "kernelspec": {
   "display_name": "conda_python3",
   "language": "python",
   "name": "conda_python3"
  },
  "language_info": {
   "codemirror_mode": {
    "name": "ipython",
    "version": 3
   },
   "file_extension": ".py",
   "mimetype": "text/x-python",
   "name": "python",
   "nbconvert_exporter": "python",
   "pygments_lexer": "ipython3",
   "version": "3.10.12"
  }
 },
 "nbformat": 4,
 "nbformat_minor": 5
}
