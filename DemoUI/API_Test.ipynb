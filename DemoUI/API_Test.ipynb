{
 "cells": [
  {
   "cell_type": "code",
   "execution_count": null,
   "id": "e638058f-8c00-4a07-878f-553e7fa7d842",
   "metadata": {},
   "outputs": [],
   "source": [
    "#发送请求"
   ]
  },
  {
   "cell_type": "code",
   "execution_count": 7,
   "id": "34ae0274-88d7-4668-bb37-7386dfc8264d",
   "metadata": {
    "tags": []
   },
   "outputs": [],
   "source": [
    "APIURL = \"https://c1544mq3nj.execute-api.us-east-1.amazonaws.com/prod\""
   ]
  },
  {
   "cell_type": "code",
   "execution_count": 8,
   "id": "83a1a2c7-76e6-4825-aa39-d214a040bf8c",
   "metadata": {
    "tags": []
   },
   "outputs": [
    {
     "name": "stdout",
     "output_type": "stream",
     "text": [
      "{\"id_task\": \"99808\", \"task\": \"text-to-image\", \"sd_model_checkpoint\": \"revAnimated_v122.safetensors\", \"output_location\": \"s3://sdoneksdataplanestack-outputs3bucket9fe85b9f-pzlnjnu6xsl7/99808\"}"
     ]
    }
   ],
   "source": [
    "!curl -X POST -H 'Content-Type: application/json' $APIURL --data '@./payload1.json' "
   ]
  },
  {
   "cell_type": "code",
   "execution_count": null,
   "id": "e8c95e9d-c6f2-4bdf-a33d-7c59574e0c7c",
   "metadata": {},
   "outputs": [],
   "source": [
    "#查看结果"
   ]
  },
  {
   "cell_type": "code",
   "execution_count": 9,
   "id": "f5fa5bed-fd89-418b-8211-e77c63a66db8",
   "metadata": {},
   "outputs": [],
   "source": [
    "s3uri = \"s3://sdoneksdataplanestack-outputs3bucket9fe85b9f-pzlnjnu6xsl7/99808\""
   ]
  },
  {
   "cell_type": "code",
   "execution_count": null,
   "id": "a207270b-c72b-4939-9c03-ec7941f12cae",
   "metadata": {},
   "outputs": [],
   "source": [
    "#查看最新生成的图片"
   ]
  },
  {
   "cell_type": "code",
   "execution_count": null,
   "id": "8ed236a0-7b52-4718-a205-b0a03a8ff7a5",
   "metadata": {},
   "outputs": [],
   "source": [
    "import boto3\n",
    "import urllib\n",
    "from PIL import Image\n",
    "import io\n",
    "\n",
    "s3_resource = boto3.resource('s3')\n",
    "def get_latest_object_uri(s3_uri):\n",
    "    bucket_name, prefix = parse_s3_uri(s3_uri)\n",
    "    \n",
    "    s3 = boto3.client('s3')\n",
    "    response = s3.list_objects_v2(Bucket=bucket_name, Prefix=prefix)\n",
    "    \n",
    "    if 'Contents' in response:\n",
    "        objects = response['Contents']\n",
    "        objects.sort(key=lambda obj: obj['LastModified'], reverse=True)\n",
    "        latest_object = objects[0]\n",
    "        return f\"s3://{bucket_name}/{latest_object['Key']}\"\n",
    "    \n",
    "    return None\n",
    "\n",
    "def _get_output_bucket_key(output_location):\n",
    "    output_url = urllib.parse.urlparse(output_location)\n",
    "    bucket = output_url.netloc\n",
    "    key = output_url.path[1:]\n",
    "    return bucket, key\n",
    "\n",
    "def parse_s3_uri(s3_uri):\n",
    "    parts = s3_uri.replace('s3://', '').split('/')\n",
    "    bucket_name = parts[0]\n",
    "    prefix = '/'.join(parts[1:])\n",
    "    return bucket_name, prefix\n",
    "\n",
    "# Gen ObjectURI\n",
    "s3_uri = s3uri\n",
    "latest_object_uri = get_latest_object_uri(s3_uri)\n",
    "if latest_object_uri:\n",
    "    print(latest_object_uri)\n",
    "else:\n",
    "    print(\"No objects found.\")\n",
    "    \n",
    "bucket, key = _get_output_bucket_key(latest_object_uri)\n",
    "obj = s3_resource.Object(bucket, key)\n",
    "bytes = obj.get()['Body'].read()\n",
    "image = Image.open(io.BytesIO(bytes))\n",
    "image.show()\n"
   ]
  },
  {
   "cell_type": "code",
   "execution_count": 10,
   "id": "22023cb4-fa7a-4e51-a3c9-a0523a86340e",
   "metadata": {},
   "outputs": [],
   "source": [
    "#查看最近生成的随机的图片"
   ]
  },
  {
   "cell_type": "code",
   "execution_count": 12,
   "id": "bbf70b08-c5e9-4bb4-bccd-46f6f567f95a",
   "metadata": {},
   "outputs": [
    {
     "name": "stdout",
     "output_type": "stream",
     "text": [
      "Randomly selected image URI: s3://sdoneksdataplanestack-outputs3bucket9fe85b9f-pzlnjnu6xsl7/99808/20230909035123-16e72a3b-e6f3-4d39-a06f-4828e4b6a78e.png\n"
     ]
    },
    {
     "ename": "NameError",
     "evalue": "name 's3_resource' is not defined",
     "output_type": "error",
     "traceback": [
      "\u001b[0;31m---------------------------------------------------------------------------\u001b[0m",
      "\u001b[0;31mNameError\u001b[0m                                 Traceback (most recent call last)",
      "Cell \u001b[0;32mIn[12], line 47\u001b[0m\n\u001b[1;32m     43\u001b[0m \u001b[38;5;28mprint\u001b[39m(\u001b[38;5;124m\"\u001b[39m\u001b[38;5;124mRandomly selected image URI:\u001b[39m\u001b[38;5;124m\"\u001b[39m, random_image_uri)\n\u001b[1;32m     46\u001b[0m bucket, key \u001b[38;5;241m=\u001b[39m _get_output_bucket_key(random_image_uri)\n\u001b[0;32m---> 47\u001b[0m obj \u001b[38;5;241m=\u001b[39m \u001b[43ms3_resource\u001b[49m\u001b[38;5;241m.\u001b[39mObject(bucket, key)\n\u001b[1;32m     48\u001b[0m \u001b[38;5;28mbytes\u001b[39m \u001b[38;5;241m=\u001b[39m obj\u001b[38;5;241m.\u001b[39mget()[\u001b[38;5;124m'\u001b[39m\u001b[38;5;124mBody\u001b[39m\u001b[38;5;124m'\u001b[39m]\u001b[38;5;241m.\u001b[39mread()\n\u001b[1;32m     49\u001b[0m image \u001b[38;5;241m=\u001b[39m Image\u001b[38;5;241m.\u001b[39mopen(io\u001b[38;5;241m.\u001b[39mBytesIO(\u001b[38;5;28mbytes\u001b[39m))\n",
      "\u001b[0;31mNameError\u001b[0m: name 's3_resource' is not defined"
     ]
    }
   ],
   "source": [
    "import boto3\n",
    "import random\n",
    "from PIL import Image\n",
    "import requests\n",
    "import io\n",
    "import urllib\n",
    "from io import BytesIO\n",
    "\n",
    "def get_latest_images(s3_uri, num_images):\n",
    "    bucket_name, prefix = parse_s3_uri(s3_uri)\n",
    "\n",
    "    s3 = boto3.client('s3')\n",
    "    response = s3.list_objects_v2(Bucket=bucket_name, Prefix=prefix)\n",
    "\n",
    "    if 'Contents' in response:\n",
    "        objects = response['Contents']\n",
    "        objects.sort(key=lambda obj: obj['LastModified'], reverse=True)\n",
    "        latest_objects = objects[:num_images]\n",
    "        image_uris = [f\"s3://{bucket_name}/{obj['Key']}\" for obj in latest_objects]\n",
    "        return image_uris\n",
    "\n",
    "    return []\n",
    "\n",
    "def _get_output_bucket_key(output_location):\n",
    "    output_url = urllib.parse.urlparse(output_location)\n",
    "    bucket = output_url.netloc\n",
    "    key = output_url.path[1:]\n",
    "    return bucket, key\n",
    "\n",
    "def parse_s3_uri(s3_uri):\n",
    "    parts = s3_uri.replace('s3://', '').split('/')\n",
    "    bucket_name = parts[0]\n",
    "    prefix = '/'.join(parts[1:])\n",
    "    return bucket_name, prefix\n",
    "\n",
    "# Example usage\n",
    "s3_uri = s3uri\n",
    "num_images = 5\n",
    "\n",
    "latest_image_uris = get_latest_images(s3_uri, num_images)\n",
    "if latest_image_uris:\n",
    "    random_image_uri = random.choice(latest_image_uris)\n",
    "    print(\"Randomly selected image URI:\", random_image_uri)\n",
    "    \n",
    "\n",
    "    bucket, key = _get_output_bucket_key(random_image_uri)\n",
    "    obj = s3_resource.Object(bucket, key)\n",
    "    bytes = obj.get()['Body'].read()\n",
    "    image = Image.open(io.BytesIO(bytes))\n",
    "    image.show()\n",
    "else:\n",
    "    print(\"No images found.\")\n"
   ]
  },
  {
   "cell_type": "code",
   "execution_count": null,
   "id": "92ea57cd-9a1f-4077-a6b7-4391c3c340da",
   "metadata": {},
   "outputs": [],
   "source": []
  }
 ],
 "metadata": {
  "kernelspec": {
   "display_name": "conda_python3",
   "language": "python",
   "name": "conda_python3"
  },
  "language_info": {
   "codemirror_mode": {
    "name": "ipython",
    "version": 3
   },
   "file_extension": ".py",
   "mimetype": "text/x-python",
   "name": "python",
   "nbconvert_exporter": "python",
   "pygments_lexer": "ipython3",
   "version": "3.10.12"
  }
 },
 "nbformat": 4,
 "nbformat_minor": 5
}
