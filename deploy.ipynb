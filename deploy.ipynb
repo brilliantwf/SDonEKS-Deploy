{
 "cells": [
  {
   "cell_type": "markdown",
   "id": "217dd290-6fa0-4fbf-8ea9-66418287f024",
   "metadata": {},
   "source": [
    "## SD on EKS 部署\n",
    "以下为快速部署版本,一些过程如果不能在noteb cell中执行,请粘贴相关内容到shell(bash)中执行,很多参数未做变量,请仔细修改"
   ]
  },
  {
   "cell_type": "markdown",
   "id": "65711416-e4bd-4ba9-9189-9d4b3817f277",
   "metadata": {},
   "source": [
    "### 一. 基本环境初始化"
   ]
  },
  {
   "cell_type": "markdown",
   "id": "e47f4dba-4f59-4b55-9496-2959c74eed45",
   "metadata": {},
   "source": [
    "#### 1. 安装基本命令"
   ]
  },
  {
   "cell_type": "markdown",
   "id": "7aa2cef0-b28c-4247-a7c1-f3e90f2ee209",
   "metadata": {
    "tags": []
   },
   "source": [
    "%%bash\n",
    "sudo chmod +x init-env.sh\n",
    "./init-env.sh"
   ]
  },
  {
   "cell_type": "markdown",
   "id": "9257b866-6e20-42a0-95c9-3a87956f6e2c",
   "metadata": {},
   "source": [
    "#### 2. clone 代码"
   ]
  },
  {
   "cell_type": "code",
   "execution_count": null,
   "id": "c94d5354-5620-49f6-8df5-f0be5a94b59e",
   "metadata": {},
   "outputs": [],
   "source": [
    "%%bash\n",
    "git clone --recurse-submodules https://Private_key@github.com/bnusunny/stable-diffusion-on-eks.git\n",
    "cd ~/SageMaker/SDonEKS-Deploy/stable-diffusion-on-eks"
   ]
  },
  {
   "cell_type": "markdown",
   "id": "e0fc1fca-e189-40d2-bc7b-0201dd100feb",
   "metadata": {},
   "source": [
    "#### 3. 创建模型存储桶,记录下桶的arn 后面会用到"
   ]
  },
  {
   "cell_type": "code",
   "execution_count": null,
   "id": "de72c9cc-61b8-402f-9e21-51aedf6206cf",
   "metadata": {},
   "outputs": [],
   "source": [
    "! aws s3api create-bucket --bucket model-store --region <Your_Region>"
   ]
  },
  {
   "cell_type": "markdown",
   "id": "096642a4-e2f0-4c7d-9da9-4eb02857717c",
   "metadata": {},
   "source": [
    "### 二. 镜像及Snapshot制备"
   ]
  },
  {
   "cell_type": "markdown",
   "id": "805799f3-9685-4855-b91a-a55385608c83",
   "metadata": {},
   "source": [
    "#### 1. 镜像制作"
   ]
  },
  {
   "cell_type": "code",
   "execution_count": null,
   "id": "87c6d003-7496-440e-8da2-4256f45a8551",
   "metadata": {},
   "outputs": [],
   "source": [
    "!docker build -t inference-api:latest src/sd_webui_api/"
   ]
  },
  {
   "cell_type": "code",
   "execution_count": null,
   "id": "1b5b215d-149f-4391-9c4a-ea60d280aeb2",
   "metadata": {},
   "outputs": [],
   "source": [
    "!docker build -t queue-agent:latest src/queue_agent/"
   ]
  },
  {
   "cell_type": "code",
   "execution_count": null,
   "id": "1dad7ae6-6011-4691-b947-edb1528391f7",
   "metadata": {},
   "outputs": [],
   "source": [
    "%%bash\n",
    "aws ecr create-repository --repository-name sd-on-eks/inference-api\n",
    "aws ecr create-repository --repository-name sd-on-eks/queue-agent"
   ]
  },
  {
   "cell_type": "code",
   "execution_count": null,
   "id": "b8971194-9c58-4872-972a-d47a4847248e",
   "metadata": {},
   "outputs": [],
   "source": [
    "%%bash\n",
    "aws ecr get-login-password --region <Your_Region> | docker login --username AWS --password-stdin <Your_Account>.dkr.ecr.<Your_Region>.amazonaws.com\n",
    "docker tag inference-api:latest <Your_Account>.dkr.ecr.<Your_Region>.amazonaws.com/sd-on-eks/inference-api:latest\n",
    "docker push <Your_Account>.dkr.ecr.<Your_Region>.amazonaws.com/sd-on-eks/inference-api:latest\n",
    "docker tag queue-agent:latest <Your_Account>.dkr.ecr.<Your_Region>.amazonaws.com/sd-on-eks/queue-agent:latest\n",
    "docker push <Your_Account>.dkr.ecr.<Your_Region>.amazonaws.com/sd-on-eks/queue-agent:latest"
   ]
  },
  {
   "cell_type": "code",
   "execution_count": null,
   "id": "851b2535-31ca-4ec1-b550-6f002767cadc",
   "metadata": {},
   "outputs": [],
   "source": [
    "#记录下上面输出的image URL"
   ]
  },
  {
   "cell_type": "code",
   "execution_count": null,
   "id": "2a7d0fc8-3d63-4952-af25-80ab709cb780",
   "metadata": {},
   "outputs": [],
   "source": [
    "!aws ecr create-repository --repository-name sd-on-eks/charts/sd-on-eks"
   ]
  },
  {
   "cell_type": "code",
   "execution_count": null,
   "id": "d5754a6b-2ce8-4679-98bf-82426d77ebdc",
   "metadata": {},
   "outputs": [],
   "source": [
    "helm package src/eks_cluster/charts/sd-on-eks\n",
    "helm push sd-on-eks-<version>.tgz oci://<Your_Account>.dkr.ecr.<Your_Region>.amazonaws.com/sd-on-eks/charts/"
   ]
  },
  {
   "cell_type": "code",
   "execution_count": null,
   "id": "e8a2f22a-d3aa-4354-9151-359a936c5120",
   "metadata": {},
   "outputs": [],
   "source": [
    "#记录下上面输出的oci URL"
   ]
  },
  {
   "cell_type": "markdown",
   "id": "1d6b26fd-02a3-47c5-b9a9-f508d9555619",
   "metadata": {},
   "source": [
    "#### 2. Snapshot 制作"
   ]
  },
  {
   "cell_type": "code",
   "execution_count": null,
   "id": "ac527fc1-9512-48db-a2dd-02f52e3dc254",
   "metadata": {},
   "outputs": [],
   "source": [
    "%%bash\n",
    "cd /home/ec2-user/SageMaker/SDonEKS-Deploy/stable-diffusion-on-eks/utils/bottlerocket-images-cache\n",
    "./snapshot.sh <Your_Account>.dkr.ecr.<Your_Region>.amazonaws.com/sd-on-eks/inference-api:latest,<Your_Account>.dkr.ecr.<Your_Region>.amazonaws.com/sd-on-eks/queue-agent:latest"
   ]
  },
  {
   "cell_type": "code",
   "execution_count": null,
   "id": "809e2897-4785-48bb-9927-91dae6d94de9",
   "metadata": {},
   "outputs": [],
   "source": [
    "#记录下上面输出的snapshot id"
   ]
  },
  {
   "cell_type": "markdown",
   "id": "dd9fd608-411e-4d84-899c-5c3846228609",
   "metadata": {},
   "source": [
    "### 三. CDK 部署"
   ]
  },
  {
   "cell_type": "markdown",
   "id": "c2c0795e-0bd2-40c1-903a-47989ffcaa13",
   "metadata": {},
   "source": [
    "#### 修改 config.yaml文件,参考编辑Sample目录下的config.yaml文件,注意标点和格式"
   ]
  },
  {
   "cell_type": "markdown",
   "id": "8ad56d30-d292-4645-8444-5dcc6fab3204",
   "metadata": {},
   "source": [
    "根据实际情况修改,S3桶arn,runtime 模型,自建ECR,Snapshot ID等"
   ]
  },
  {
   "cell_type": "code",
   "execution_count": null,
   "id": "5383b24a-0d9d-4f25-a410-dc8322ae8ac2",
   "metadata": {},
   "outputs": [],
   "source": [
    "# 保存后执行以下步骤开始部署\n",
    "%%bash\n",
    "npm install\n",
    "cdk bootstrap\n",
    "cdk deploy --all --no-roll-back"
   ]
  },
  {
   "cell_type": "markdown",
   "id": "7f7b86da-cf73-4399-bcd1-7e4590e62edd",
   "metadata": {},
   "source": [
    "执行完毕后从cloudformation输出记录 APIGateway 地址,形如https://c1544mqj.execute-api.<Your_Region>.amazonaws.com/prod/"
   ]
  },
  {
   "cell_type": "markdown",
   "id": "481c49d3-9881-4a2a-8c9c-8d3af7c49f46",
   "metadata": {},
   "source": [
    "执行完毕后从cloudformation输出记录 eks config update命令,如下,拷贝到bash 中执行:"
   ]
  },
  {
   "cell_type": "markdown",
   "id": "d2b97a93",
   "metadata": {},
   "source": [
    "```\n",
    "aws eks update-kubeconfig --name SdOnEksDataPlaneStack --region <Your_Region> --role-arn arn:aws:iam::<Your_Account>:role/SdOnEksDataPlaneStack-SdOnEksDataPlaneStackAccessR-XXXXX\n",
    "```"
   ]
  },
  {
   "cell_type": "markdown",
   "id": "7e1a84e4-bb6d-4e4a-9b9c-d8cf70eb8495",
   "metadata": {},
   "source": [
    "### 四. 模型下载同步"
   ]
  },
  {
   "cell_type": "markdown",
   "id": "8a37d142-fa3c-41a9-8843-8235b32721f3",
   "metadata": {},
   "source": [
    "#### 1. 模型下载"
   ]
  },
  {
   "cell_type": "markdown",
   "id": "aac99149-ca16-4956-b80a-8fdd4efe17a9",
   "metadata": {},
   "source": [
    "找到tools目录下S3uploader文件夹,修改其中的down.csv 修改其中的url,bucket和目标key列后保存\n",
    "执行\n",
    "\n",
    "```\n",
    "python3 s3uploaderv2.py down.csv\n",
    "```\n",
    "开始下载"
   ]
  },
  {
   "cell_type": "markdown",
   "id": "d356133f-e9fb-427c-bb4d-2886ef4e6d6a",
   "metadata": {},
   "source": [
    "#### 2. 模型同步"
   ]
  },
  {
   "cell_type": "markdown",
   "id": "d8ef58dc-96c8-4350-89cd-1de1355fa355",
   "metadata": {},
   "source": [
    "下载tools目录下下载models_sync_deploy.yaml并在cloudformation中创建堆栈,桶输入之前的模型桶,efsid 选择cloudformation中创建的EFSid,网络选择CDK创建的任意子网,安全组选择任意可以访问efs的安全组(如果没有可以手动创建一个)"
   ]
  },
  {
   "cell_type": "markdown",
   "id": "b3ea09db-a3b4-4488-98a5-67d0ff670ee1",
   "metadata": {},
   "source": [
    "Models_sync_deploy创建完成后,可以到datasync 控制台中找到历史记录是否有执行记录,如果等待5分钟仍然没有,可以找到任务的开始按钮,点击如提示错误,在编辑下给与Cloudwatch 日志组权限,等待片刻再观察."
   ]
  },
  {
   "cell_type": "markdown",
   "id": "d6300cf3-c2f6-44a9-9f6d-14edcaebf419",
   "metadata": {},
   "source": [
    "#### 五.排错及管理"
   ]
  },
  {
   "cell_type": "markdown",
   "id": "96c7f9fa-5539-4e99-a011-56de23d7bad1",
   "metadata": {},
   "source": [
    "1. 首批pod可能由于模型加载错误导致无法启动可以使用如下命令重启pod\n",
    "\n",
    "```\n",
    "kubectl scale deployment sdruntime2-sd-on-eks-sd-webui-inference-api --replicas=0 -n sdruntime2\n",
    "kubectl scale deployment sdruntime1-sd-on-eks-sd-webui-inference-api --replicas=0 -n sdruntime1\n",
    "kubectl scale deployment sdruntime1-sd-on-eks-sd-webui-inference-api --replicas=1 -n sdruntime1\n",
    "kubectl scale deployment sdruntime2-sd-on-eks-sd-webui-inference-api --replicas=1 -n sdruntime2\n",
    "```"
   ]
  },
  {
   "cell_type": "markdown",
   "id": "d9d51661-65e8-4a45-ba36-268241baa9a9",
   "metadata": {},
   "source": [
    "2. 如果Pod处于pending状态,请检查一下命令输出是否有异常\n",
    "\n",
    "```\n",
    "kc describe pod sdruntime1-sd-on-eks-sd-webui-inference-api-74f7cb554c-s6jh4 -n sdruntime1\n",
    "kubectl logs -n karpenter -l app.kubernetes.io/name=karpenter\n",
    "kubectl logs karpenter-76c95bd775-rdw6q  -n karpenter\n",
    "```"
   ]
  },
  {
   "cell_type": "markdown",
   "id": "850a6730-3c0a-4aa0-b164-7a5589637d31",
   "metadata": {},
   "source": [
    "3. 如果Pod启动出错,请检查一下命令输出是否有异常\n",
    "\n",
    "```\n",
    "kubectl logs sdruntime1-sd-on-eks-sd-webui-inference-api-74f7cb554c-t47rq -c sd-webui-queue-agent -n sdruntime1\n",
    "kubectl exec -it  sdruntime1-sd-on-eks-sd-webui-inference-api-cb57f64fd-gt48p -c sd-webui-queue-agent -n sdruntime1 /bin/bash\n",
    "kubectl logs sdruntime1-sd-on-eks-sd-webui-inference-api-cb57f64fd-gt48p -c sd-webui-queue-agent -n sdruntime2\n",
    "```"
   ]
  },
  {
   "cell_type": "markdown",
   "id": "904980e5-3fa4-4604-b469-eab5829fe2f1",
   "metadata": {},
   "source": [
    "#### 六.请求测试"
   ]
  },
  {
   "cell_type": "markdown",
   "id": "a8e4c5ee-a09c-44e2-a770-f73884991ba9",
   "metadata": {
    "tags": []
   },
   "source": [
    "1. 使用DemoUI目录下 demo.py进行测试"
   ]
  },
  {
   "cell_type": "markdown",
   "id": "b84bec09-a4a9-43f6-bfd1-92e3954679fe",
   "metadata": {},
   "source": [
    "2. 使用API_Test.ipynb进行测试"
   ]
  }
 ],
 "metadata": {
  "kernelspec": {
   "display_name": "conda_python3",
   "language": "python",
   "name": "conda_python3"
  },
  "language_info": {
   "codemirror_mode": {
    "name": "ipython",
    "version": 3
   },
   "file_extension": ".py",
   "mimetype": "text/x-python",
   "name": "python",
   "nbconvert_exporter": "python",
   "pygments_lexer": "ipython3",
   "version": "3.10.12"
  }
 },
 "nbformat": 4,
 "nbformat_minor": 5
}
