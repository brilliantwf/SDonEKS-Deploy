{
 "cells": [
  {
   "cell_type": "markdown",
   "id": "65711416-e4bd-4ba9-9189-9d4b3817f277",
   "metadata": {},
   "source": [
    "### 一. 基本环境初始化"
   ]
  },
  {
   "cell_type": "markdown",
   "id": "e47f4dba-4f59-4b55-9496-2959c74eed45",
   "metadata": {},
   "source": [
    "#### 1. 安装基本命令"
   ]
  },
  {
   "cell_type": "code",
   "execution_count": null,
   "id": "7aa2cef0-b28c-4247-a7c1-f3e90f2ee209",
   "metadata": {
    "tags": [],
    "vscode": {
     "languageId": "plaintext"
    }
   },
   "outputs": [],
   "source": [
    "%%bash\n",
    "sudo chmod +x init-env.sh\n",
    "./init-env.sh"
   ]
  },
  {
   "cell_type": "markdown",
   "id": "9257b866-6e20-42a0-95c9-3a87956f6e2c",
   "metadata": {},
   "source": [
    "#### 2. clone 代码"
   ]
  },
  {
   "cell_type": "code",
   "execution_count": null,
   "id": "c94d5354-5620-49f6-8df5-f0be5a94b59e",
   "metadata": {
    "tags": []
   },
   "outputs": [],
   "source": [
    "%%bash\n",
    "git clone --recurse-submodules https://Private_token@github.com/bnusunny/stable-diffusion-on-eks.git\n",
    "cd ~/SageMaker/SDonEKS-Deploy/stable-diffusion-on-eks"
   ]
  },
  {
   "cell_type": "markdown",
   "id": "e0fc1fca-e189-40d2-bc7b-0201dd100feb",
   "metadata": {},
   "source": [
    "#### 3. 创建模型存储桶,记录下桶的arn 后面会用到"
   ]
  },
  {
   "cell_type": "code",
   "execution_count": 13,
   "id": "1cc974bb-59e4-496d-a455-f25024f249ad",
   "metadata": {
    "tags": []
   },
   "outputs": [],
   "source": [
    "BUCKET_NAME = \"sd-models-XXX\" #修改为需要创建的模型桶名称"
   ]
  },
  {
   "cell_type": "code",
   "execution_count": null,
   "id": "de72c9cc-61b8-402f-9e21-51aedf6206cf",
   "metadata": {
    "tags": []
   },
   "outputs": [],
   "source": [
    "!aws s3 mb s3://$BUCKET_NAME --region us-west-2"
   ]
  },
  {
   "cell_type": "markdown",
   "id": "a49de5db-1abf-4ac0-bca4-f3ba15928e2c",
   "metadata": {},
   "source": [
    "记录下S3 ARN地址"
   ]
  },
  {
   "cell_type": "code",
   "execution_count": 14,
   "id": "df51e89d-750e-478e-8e4d-e35e52101fd2",
   "metadata": {
    "tags": []
   },
   "outputs": [
    {
     "name": "stdout",
     "output_type": "stream",
     "text": [
      "arn:aws:s3::sd-models-uw2\n"
     ]
    }
   ],
   "source": [
    "! echo \"arn:aws:s3::$BUCKET_NAME\""
   ]
  },
  {
   "cell_type": "markdown",
   "id": "096642a4-e2f0-4c7d-9da9-4eb02857717c",
   "metadata": {},
   "source": [
    "### 二. 镜像及Snapshot制备"
   ]
  },
  {
   "cell_type": "markdown",
   "id": "805799f3-9685-4855-b91a-a55385608c83",
   "metadata": {},
   "source": [
    "#### 1. 镜像制作"
   ]
  },
  {
   "cell_type": "code",
   "execution_count": null,
   "id": "09379f29-9d52-4716-bf09-e3fd37193bc4",
   "metadata": {
    "scrolled": true,
    "tags": []
   },
   "outputs": [],
   "source": [
    "import boto3,os\n",
    "account_id = boto3.client(\"sts\").get_caller_identity().get(\"Account\")\n",
    "region_name = boto3.session.Session().region_name\n",
    "os.chdir('/home/ec2-user/SageMaker/SDonEKS-Deploy/tools')\n",
    "cmd = \"/bin/sh ./build_and_push.sh %s\" %(region_name)\n",
    "os.system(cmd)"
   ]
  },
  {
   "cell_type": "markdown",
   "id": "1d6b26fd-02a3-47c5-b9a9-f508d9555619",
   "metadata": {},
   "source": [
    "#### 2. Snapshot 制作(这一步是可选项,建议在业务代码开发调试完成后再做)"
   ]
  },
  {
   "cell_type": "code",
   "execution_count": null,
   "id": "ac527fc1-9512-48db-a2dd-02f52e3dc254",
   "metadata": {
    "tags": []
   },
   "outputs": [],
   "source": [
    "import boto3,os\n",
    "account_id = boto3.client(\"sts\").get_caller_identity().get(\"Account\")\n",
    "region_name = boto3.session.Session().region_name\n",
    "Infer_API_IMG= \"%s.dkr.ecr.%s.amazonaws.com/inference-api:latest\" %(account_id,region_name)\n",
    "Queue_Agent_IMG= \"%s.dkr.ecr.%s.amazonaws.com/sd-on-eks/queue-agent:latest\" %(account_id,region_name)\n",
    "OCI_URL = \"oci://%s.dkr.ecr.%s.amazonaws.com/sd-on-eks/charts/\" %(account_id,region_name)\n",
    "print (\"OCI_URL is :\",OCI_URL)\n",
    "os.chdir('/home/ec2-user/SageMaker/SDonEKS-Deploy/stable-diffusion-on-eks/utils/bottlerocket-images-cache')\n",
    "cmd = \"/bin/sh ./snapshot.sh %s %s\" %(Infer_API_IMG,Queue_Agent_IMG)\n",
    "os.system(cmd)"
   ]
  },
  {
   "cell_type": "code",
   "execution_count": null,
   "id": "809e2897-4785-48bb-9927-91dae6d94de9",
   "metadata": {},
   "outputs": [],
   "source": [
    "#记录上面输出的snapshot id"
   ]
  },
  {
   "cell_type": "markdown",
   "id": "dd9fd608-411e-4d84-899c-5c3846228609",
   "metadata": {},
   "source": [
    "### 三. CDK 部署"
   ]
  },
  {
   "cell_type": "markdown",
   "id": "c2c0795e-0bd2-40c1-903a-47989ffcaa13",
   "metadata": {},
   "source": [
    "#### 修改 config.yaml文件,参考编辑Sample目录下的config.yaml文件,注意标点和格式"
   ]
  },
  {
   "cell_type": "markdown",
   "id": "8ad56d30-d292-4645-8444-5dcc6fab3204",
   "metadata": {},
   "source": [
    "根据实际情况修改,S3桶arn,runtime 模型,自建ECR,Snapshot ID(如果启用)等.编辑后保存"
   ]
  },
  {
   "cell_type": "markdown",
   "id": "13381da4-0d67-4846-8c00-1929833c833f",
   "metadata": {},
   "source": [
    "以下代码需要在Terminal中执行"
   ]
  },
  {
   "cell_type": "code",
   "execution_count": null,
   "id": "5383b24a-0d9d-4f25-a410-dc8322ae8ac2",
   "metadata": {
    "scrolled": true,
    "tags": []
   },
   "outputs": [],
   "source": [
    "%%bash\n",
    "cd $HOME/SageMaker/SDonEKS-Deploy/\n",
    "sudo chmod +x cdk_deploy.sh\n",
    "./cdk_deploy.sh"
   ]
  },
  {
   "cell_type": "markdown",
   "id": "7f7b86da-cf73-4399-bcd1-7e4590e62edd",
   "metadata": {},
   "source": [
    "执行完毕后从cloudformation输出记录 APIGateway 地址,形如https://c1544mqj.execute-api.<Your_Region>.amazonaws.com/prod/"
   ]
  },
  {
   "cell_type": "markdown",
   "id": "481c49d3-9881-4a2a-8c9c-8d3af7c49f46",
   "metadata": {},
   "source": [
    "执行完毕后从cloudformation输出记录 eks config update命令,如下,拷贝到bash 中执行:"
   ]
  },
  {
   "cell_type": "markdown",
   "id": "d2b97a93",
   "metadata": {},
   "source": [
    "```\n",
    "aws eks update-kubeconfig --name SdOnEksDataPlaneStack --region <Your_Region> --role-arn arn:aws:iam::<Your_Account>:role/SdOnEksDataPlaneStack-SdOnEksDataPlaneStackAccessR-XXXXX\n",
    "```"
   ]
  },
  {
   "cell_type": "markdown",
   "id": "7e1a84e4-bb6d-4e4a-9b9c-d8cf70eb8495",
   "metadata": {},
   "source": [
    "### 四. 模型下载同步"
   ]
  },
  {
   "cell_type": "markdown",
   "id": "8a37d142-fa3c-41a9-8843-8235b32721f3",
   "metadata": {},
   "source": [
    "#### 1. 模型下载"
   ]
  },
  {
   "cell_type": "markdown",
   "id": "aac99149-ca16-4956-b80a-8fdd4efe17a9",
   "metadata": {},
   "source": [
    "找到tools目录下S3uploader文件夹,修改其中的down.csv 修改其中的url,bucket(models bucket)和目标key列后保存\n",
    "执行\n",
    "\n",
    "```\n",
    "python3 s3uploader.py down.csv\n",
    "```\n",
    "开始下载"
   ]
  },
  {
   "cell_type": "markdown",
   "id": "d356133f-e9fb-427c-bb4d-2886ef4e6d6a",
   "metadata": {},
   "source": [
    "#### 2. 模型同步"
   ]
  },
  {
   "cell_type": "markdown",
   "id": "b3ea09db-a3b4-4488-98a5-67d0ff670ee1",
   "metadata": {},
   "source": [
    "进入datasync 访问控制台中找到历史记录是否有执行记录."
   ]
  },
  {
   "cell_type": "markdown",
   "id": "d6300cf3-c2f6-44a9-9f6d-14edcaebf419",
   "metadata": {},
   "source": [
    "#### 五.排错及管理"
   ]
  },
  {
   "cell_type": "markdown",
   "id": "96c7f9fa-5539-4e99-a011-56de23d7bad1",
   "metadata": {},
   "source": [
    "1. 首批pod可能由于模型加载错误导致无法启动可以使用如下命令重启pod\n",
    "\n",
    "```\n",
    "kubectl scale deployment sdruntime2-sd-on-eks-sd-webui-inference-api --replicas=0 -n sdruntime2\n",
    "kubectl scale deployment sdruntime1-sd-on-eks-sd-webui-inference-api --replicas=0 -n sdruntime1\n",
    "kubectl scale deployment sdruntime1-sd-on-eks-sd-webui-inference-api --replicas=1 -n sdruntime1\n",
    "kubectl scale deployment sdruntime2-sd-on-eks-sd-webui-inference-api --replicas=1 -n sdruntime2\n",
    "```"
   ]
  },
  {
   "cell_type": "markdown",
   "id": "d9d51661-65e8-4a45-ba36-268241baa9a9",
   "metadata": {},
   "source": [
    "2. 如果Pod处于pending状态,请检查一下命令输出是否有异常\n",
    "\n",
    "```\n",
    "kc describe pod sdruntime1-sd-on-eks-sd-webui-inference-api-74f7cb554c-s6jh4 -n sdruntime1\n",
    "kubectl logs -n karpenter -l app.kubernetes.io/name=karpenter\n",
    "kubectl logs karpenter-76c95bd775-rdw6q  -n karpenter\n",
    "```"
   ]
  },
  {
   "cell_type": "markdown",
   "id": "850a6730-3c0a-4aa0-b164-7a5589637d31",
   "metadata": {},
   "source": [
    "3. 如果Pod启动出错,请检查一下命令输出是否有异常\n",
    "\n",
    "```\n",
    "kubectl logs sdruntime1-sd-on-eks-sd-webui-inference-api-74f7cb554c-t47rq -c sd-webui-queue-agent -n sdruntime1\n",
    "kubectl exec -it  sdruntime1-sd-on-eks-sd-webui-inference-api-cb57f64fd-gt48p -c sd-webui-queue-agent -n sdruntime1 /bin/bash\n",
    "kubectl logs sdruntime1-sd-on-eks-sd-webui-inference-api-cb57f64fd-gt48p -c sd-webui-queue-agent -n sdruntime2\n",
    "```"
   ]
  },
  {
   "cell_type": "markdown",
   "id": "72caa1f2",
   "metadata": {},
   "source": [
    "4. 如果需要临时关闭keda的自动伸缩,停掉所有Wokernode,可以将keda deployments和 runtime deployment scale 到 0."
   ]
  },
  {
   "cell_type": "markdown",
   "id": "904980e5-3fa4-4604-b469-eab5829fe2f1",
   "metadata": {},
   "source": [
    "#### 六.请求测试"
   ]
  },
  {
   "cell_type": "markdown",
   "id": "a8e4c5ee-a09c-44e2-a770-f73884991ba9",
   "metadata": {
    "tags": []
   },
   "source": [
    "1. 使用DemoUI目录下 demo.py进行测试"
   ]
  },
  {
   "cell_type": "markdown",
   "id": "b84bec09-a4a9-43f6-bfd1-92e3954679fe",
   "metadata": {},
   "source": [
    "2. 使用API_Test.ipynb进行测试"
   ]
  },
  {
   "cell_type": "markdown",
   "id": "5afa8c96",
   "metadata": {},
   "source": [
    "3. s3broswer.py可以作为一个简单的图片浏览器"
   ]
  },
  {
   "cell_type": "markdown",
   "id": "e7fd921b",
   "metadata": {},
   "source": [
    "### 七. 监控"
   ]
  },
  {
   "cell_type": "markdown",
   "id": "f95a26c4",
   "metadata": {},
   "source": [
    "1. 查看链路健康状态和延迟情况\n",
    "\n",
    "https://us-east-1.console.aws.amazon.com/cloudwatch/home?region=us-east-1#xray:traces/query\n",
    "\n",
    "2. 查看Stable diffusion API/WebUI 日志\n",
    "\n",
    "在loginsight(https://us-east-1.console.aws.amazon.com/cloudwatch/home?region=us-east-1#logsV2:logs-insights) 根据需要监控的模型队列选择/aws/eks/fluentbit-cloudwatch/workload/sdruntime1,或sdruntime2或default(动态runtime)\n",
    "\n",
    "在查询代码中输入\n",
    "```\n",
    "fields @timestamp, @message, @logStream\n",
    "| filter @logStream like /.*sd-webui-inference-api$/\n",
    "| sort @timestamp desc\n",
    "| parse @message \"{*}\" as log_content\n",
    "| parse log_content 'log\":\"*\"' as log_re\n",
    "| display log_re\n",
    "| limit 500\n",
    "```\n",
    "\n",
    "\n",
    "3. 查看QueueAgent 日志\n",
    "\n",
    "在loginsight(https://us-east-1.console.aws.amazon.com/cloudwatch/home?region=us-east-1#logsV2:logs-insights) 根据需要监控的模型队列选择/aws/eks/fluentbit-cloudwatch/workload/sdruntime1,或sdruntime2或default(动态runtime)\n",
    "\n",
    "在查询代码中输入\n",
    "```\n",
    "fields @timestamp, @message, @logStream\n",
    "| filter @logStream like /.*webui-queue-agent$/\n",
    "| sort @timestamp desc\n",
    "| parse @message \"{*}\" as log_content\n",
    "| parse log_content 'log\":\"*\"' as log_re\n",
    "| display log_re\n",
    "| limit 500\n",
    "```"
   ]
  },
  {
   "cell_type": "markdown",
   "id": "05703e97",
   "metadata": {},
   "source": [
    "### 八. 更新镜像"
   ]
  },
  {
   "cell_type": "markdown",
   "id": "0855f0e0",
   "metadata": {},
   "source": [
    "1. 如果没有启用Snapshot Image 启动,则直接将最新的代码Build & push ,重新启动pod即可\n",
    "2. 如果启用了Snapshot Image 将 config文件中的 image tag 修改为 更新后的image tag即可,例如:\n",
    "\n",
    "```\n",
    "      inferenceApi:\n",
    "        image:\n",
    "          repository: 12392066775.dkr.ecr.us-east-1.amazonaws.com/sd-on-eks/inference-api\n",
    "          tag: abcd1\n",
    "```\n",
    "Image 构建的过程参考 步骤2.1\n",
    "更新完成,需要重新push和cdk deploy"
   ]
  }
 ],
 "metadata": {
  "kernelspec": {
   "display_name": "conda_python3",
   "language": "python",
   "name": "conda_python3"
  },
  "language_info": {
   "codemirror_mode": {
    "name": "ipython",
    "version": 3
   },
   "file_extension": ".py",
   "mimetype": "text/x-python",
   "name": "python",
   "nbconvert_exporter": "python",
   "pygments_lexer": "ipython3",
   "version": "3.10.12"
  }
 },
 "nbformat": 4,
 "nbformat_minor": 5
}
